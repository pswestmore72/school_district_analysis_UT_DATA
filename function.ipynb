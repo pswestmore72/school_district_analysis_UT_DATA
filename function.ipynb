{
 "cells": [
  {
   "cell_type": "code",
   "execution_count": 1,
   "id": "6985e0df",
   "metadata": {},
   "outputs": [],
   "source": [
    "# Define the function \"say_hello\" so it prints \"Hello!\" when called.\n",
    "def say_hello():\n",
    "    print(\"Hello!\")"
   ]
  },
  {
   "cell_type": "code",
   "execution_count": 3,
   "id": "a0afa92e",
   "metadata": {},
   "outputs": [
    {
     "name": "stdout",
     "output_type": "stream",
     "text": [
      "Hello!\n"
     ]
    }
   ],
   "source": [
    "say_hello()"
   ]
  },
  {
   "cell_type": "code",
   "execution_count": 4,
   "id": "5733c7f4",
   "metadata": {},
   "outputs": [],
   "source": [
    "# Define the function \"say_something\" so it prints whatever is passed as the variable when called.\n",
    "def say_something(something):\n",
    "    print(something)"
   ]
  },
  {
   "cell_type": "code",
   "execution_count": 5,
   "id": "7a6f389d",
   "metadata": {},
   "outputs": [
    {
     "name": "stdout",
     "output_type": "stream",
     "text": [
      "Hello.\n"
     ]
    }
   ],
   "source": [
    "say_something('Hello.')"
   ]
  },
  {
   "cell_type": "code",
   "execution_count": 6,
   "id": "73484873",
   "metadata": {},
   "outputs": [
    {
     "name": "stdout",
     "output_type": "stream",
     "text": [
      "92\n",
      "85\n",
      "87\n",
      "98\n"
     ]
    }
   ],
   "source": [
    "# Using the format() function.\n",
    "my_grades = [92.34, 84.56, 86.78, 98.32]\n",
    "\n",
    "for grade in my_grades:\n",
    "    print(\"{:.0f}\".format(grade))"
   ]
  },
  {
   "cell_type": "code",
   "execution_count": null,
   "id": "22bc4161",
   "metadata": {},
   "outputs": [],
   "source": []
  }
 ],
 "metadata": {
  "kernelspec": {
   "display_name": "PythonData",
   "language": "python",
   "name": "pythondata"
  },
  "language_info": {
   "codemirror_mode": {
    "name": "ipython",
    "version": 3
   },
   "file_extension": ".py",
   "mimetype": "text/x-python",
   "name": "python",
   "nbconvert_exporter": "python",
   "pygments_lexer": "ipython3",
   "version": "3.9.4"
  }
 },
 "nbformat": 4,
 "nbformat_minor": 5
}
